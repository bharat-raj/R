{
 "cells": [
  {
   "cell_type": "markdown",
   "metadata": {},
   "source": [
    "##  Save And Load R Objects\n",
    "### save() : Save R object in .Rdata file \n",
    "### load() :  Read R object from .Rdata file\n",
    "### rm()    :  Remove object from R"
   ]
  },
  {
   "cell_type": "code",
   "execution_count": 1,
   "metadata": {},
   "outputs": [
    {
     "data": {
      "text/html": [
       "<ol class=list-inline>\n",
       "\t<li>1</li>\n",
       "\t<li>2</li>\n",
       "\t<li>3</li>\n",
       "\t<li>4</li>\n",
       "\t<li>5</li>\n",
       "\t<li>6</li>\n",
       "\t<li>7</li>\n",
       "\t<li>8</li>\n",
       "\t<li>9</li>\n",
       "\t<li>10</li>\n",
       "</ol>\n"
      ],
      "text/latex": [
       "\\begin{enumerate*}\n",
       "\\item 1\n",
       "\\item 2\n",
       "\\item 3\n",
       "\\item 4\n",
       "\\item 5\n",
       "\\item 6\n",
       "\\item 7\n",
       "\\item 8\n",
       "\\item 9\n",
       "\\item 10\n",
       "\\end{enumerate*}\n"
      ],
      "text/markdown": [
       "1. 1\n",
       "2. 2\n",
       "3. 3\n",
       "4. 4\n",
       "5. 5\n",
       "6. 6\n",
       "7. 7\n",
       "8. 8\n",
       "9. 9\n",
       "10. 10\n",
       "\n",
       "\n"
      ],
      "text/plain": [
       " [1]  1  2  3  4  5  6  7  8  9 10"
      ]
     },
     "metadata": {},
     "output_type": "display_data"
    }
   ],
   "source": [
    "obj1<-1:10\n",
    "obj1"
   ]
  },
  {
   "cell_type": "code",
   "execution_count": 2,
   "metadata": {
    "collapsed": true
   },
   "outputs": [],
   "source": [
    "save(obj1,file=\"Data1.Rdata\")"
   ]
  },
  {
   "cell_type": "code",
   "execution_count": 8,
   "metadata": {},
   "outputs": [],
   "source": [
    "rm(obj1)\n",
    "# obj1\n",
    "# Error in eval(expr, envir, enclos): object 'obj1' not found\n",
    "# Traceback:\n",
    "\n"
   ]
  },
  {
   "cell_type": "code",
   "execution_count": 9,
   "metadata": {},
   "outputs": [
    {
     "data": {
      "text/html": [
       "<ol class=list-inline>\n",
       "\t<li>1</li>\n",
       "\t<li>2</li>\n",
       "\t<li>3</li>\n",
       "\t<li>4</li>\n",
       "\t<li>5</li>\n",
       "\t<li>6</li>\n",
       "\t<li>7</li>\n",
       "\t<li>8</li>\n",
       "\t<li>9</li>\n",
       "\t<li>10</li>\n",
       "</ol>\n"
      ],
      "text/latex": [
       "\\begin{enumerate*}\n",
       "\\item 1\n",
       "\\item 2\n",
       "\\item 3\n",
       "\\item 4\n",
       "\\item 5\n",
       "\\item 6\n",
       "\\item 7\n",
       "\\item 8\n",
       "\\item 9\n",
       "\\item 10\n",
       "\\end{enumerate*}\n"
      ],
      "text/markdown": [
       "1. 1\n",
       "2. 2\n",
       "3. 3\n",
       "4. 4\n",
       "5. 5\n",
       "6. 6\n",
       "7. 7\n",
       "8. 8\n",
       "9. 9\n",
       "10. 10\n",
       "\n",
       "\n"
      ],
      "text/plain": [
       " [1]  1  2  3  4  5  6  7  8  9 10"
      ]
     },
     "metadata": {},
     "output_type": "display_data"
    }
   ],
   "source": [
    "load(\"Data1.Rdata\")\n",
    "obj1"
   ]
  },
  {
   "cell_type": "markdown",
   "metadata": {},
   "source": [
    "-------"
   ]
  },
  {
   "cell_type": "markdown",
   "metadata": {},
   "source": [
    "---"
   ]
  },
  {
   "cell_type": "markdown",
   "metadata": {},
   "source": [
    "# Import from and Export to .CSV Files\n",
    "### write.csv(): write an R object to a .CSV file\n",
    "### read.csv(): read an R object from a .CSV file"
   ]
  },
  {
   "cell_type": "code",
   "execution_count": 5,
   "metadata": {},
   "outputs": [
    {
     "data": {
      "text/html": [
       "<table>\n",
       "<thead><tr><th scope=col>Int</th><th scope=col>Float.Real</th><th scope=col>Var.Char</th></tr></thead>\n",
       "<tbody>\n",
       "\t<tr><td>1           </td><td>6.855424    </td><td>R           </td></tr>\n",
       "\t<tr><td>8           </td><td>4.603499    </td><td>And         </td></tr>\n",
       "\t<tr><td>5           </td><td>2.547944    </td><td>Data Mining </td></tr>\n",
       "\t<tr><td>2           </td><td>4.155014    </td><td>Examples    </td></tr>\n",
       "\t<tr><td>1           </td><td>4.817930    </td><td>Case Studies</td></tr>\n",
       "</tbody>\n",
       "</table>\n"
      ],
      "text/latex": [
       "\\begin{tabular}{r|lll}\n",
       " Int & Float.Real & Var.Char\\\\\n",
       "\\hline\n",
       "\t 1            & 6.855424     & R           \\\\\n",
       "\t 8            & 4.603499     & And         \\\\\n",
       "\t 5            & 2.547944     & Data Mining \\\\\n",
       "\t 2            & 4.155014     & Examples    \\\\\n",
       "\t 1            & 4.817930     & Case Studies\\\\\n",
       "\\end{tabular}\n"
      ],
      "text/markdown": [
       "\n",
       "Int | Float.Real | Var.Char | \n",
       "|---|---|---|---|---|\n",
       "| 1            | 6.855424     | R            | \n",
       "| 8            | 4.603499     | And          | \n",
       "| 5            | 2.547944     | Data Mining  | \n",
       "| 2            | 4.155014     | Examples     | \n",
       "| 1            | 4.817930     | Case Studies | \n",
       "\n",
       "\n"
      ],
      "text/plain": [
       "  Int Float.Real Var.Char    \n",
       "1 1   6.855424   R           \n",
       "2 8   4.603499   And         \n",
       "3 5   2.547944   Data Mining \n",
       "4 2   4.155014   Examples    \n",
       "5 1   4.817930   Case Studies"
      ]
     },
     "metadata": {},
     "output_type": "display_data"
    }
   ],
   "source": [
    "var1 <- sample(1:10,5,replace=T) ## 5 Random Int numbers between 1 to 10 and repition is allowed(replace=T) \n",
    "var2 <- runif(5,1,10)            ## 5 Random Real/float numbers between 1 to 10\n",
    "var3 <- c(\"R\",\"And\",\"Data Mining\",\"Examples\",\"Case Studies\")\n",
    "dataFrame1 <- data.frame(var1,var2,var3)\n",
    "names(dataFrame1) <- c(\"Int\",\"Float/Real\",\"Var Char\")\n",
    " write.csv(dataFrame1,\"Data2.csv\",row.names=FALSE)\n",
    "dataFrame2 <- read.csv(\"Data2.csv\")\n",
    "dataFrame2"
   ]
  },
  {
   "cell_type": "markdown",
   "metadata": {},
   "source": [
    "-----"
   ]
  },
  {
   "cell_type": "markdown",
   "metadata": {},
   "source": [
    "----"
   ]
  },
  {
   "cell_type": "markdown",
   "metadata": {},
   "source": [
    "# Import from and Export to EXCEL Files\n",
    "### Package xlsx: read, write, format Excel 2007 and Excel 97/2000/XP/2003 files"
   ]
  },
  {
   "cell_type": "code",
   "execution_count": 7,
   "metadata": {},
   "outputs": [
    {
     "data": {
      "text/html": [
       "<table>\n",
       "<thead><tr><th scope=col>Int</th><th scope=col>Float.Real</th><th scope=col>Var.Char</th></tr></thead>\n",
       "<tbody>\n",
       "\t<tr><td>1           </td><td>6.855424    </td><td>R           </td></tr>\n",
       "\t<tr><td>8           </td><td>4.603499    </td><td>And         </td></tr>\n",
       "\t<tr><td>5           </td><td>2.547944    </td><td>Data Mining </td></tr>\n",
       "\t<tr><td>2           </td><td>4.155014    </td><td>Examples    </td></tr>\n",
       "\t<tr><td>1           </td><td>4.817930    </td><td>Case Studies</td></tr>\n",
       "</tbody>\n",
       "</table>\n"
      ],
      "text/latex": [
       "\\begin{tabular}{r|lll}\n",
       " Int & Float.Real & Var.Char\\\\\n",
       "\\hline\n",
       "\t 1            & 6.855424     & R           \\\\\n",
       "\t 8            & 4.603499     & And         \\\\\n",
       "\t 5            & 2.547944     & Data Mining \\\\\n",
       "\t 2            & 4.155014     & Examples    \\\\\n",
       "\t 1            & 4.817930     & Case Studies\\\\\n",
       "\\end{tabular}\n"
      ],
      "text/markdown": [
       "\n",
       "Int | Float.Real | Var.Char | \n",
       "|---|---|---|---|---|\n",
       "| 1            | 6.855424     | R            | \n",
       "| 8            | 4.603499     | And          | \n",
       "| 5            | 2.547944     | Data Mining  | \n",
       "| 2            | 4.155014     | Examples     | \n",
       "| 1            | 4.817930     | Case Studies | \n",
       "\n",
       "\n"
      ],
      "text/plain": [
       "  Int Float.Real Var.Char    \n",
       "1 1   6.855424   R           \n",
       "2 8   4.603499   And         \n",
       "3 5   2.547944   Data Mining \n",
       "4 2   4.155014   Examples    \n",
       "5 1   4.817930   Case Studies"
      ]
     },
     "metadata": {},
     "output_type": "display_data"
    }
   ],
   "source": [
    "library(xlsx)\n",
    "Data3.file <-\"Data2.xlsx\"\n",
    "write.xlsx(dataFrame2,Data3.file,sheetName=\"sheet1\",row.names=F)\n",
    "dataFrame3 <- read.xlsx(Data3.file,sheetName=\"sheet1\")\n",
    "dataFrame3"
   ]
  },
  {
   "cell_type": "markdown",
   "metadata": {},
   "source": [
    "----"
   ]
  },
  {
   "cell_type": "markdown",
   "metadata": {},
   "source": [
    "----"
   ]
  },
  {
   "cell_type": "code",
   "execution_count": null,
   "metadata": {
    "collapsed": true
   },
   "outputs": [],
   "source": []
  },
  {
   "cell_type": "code",
   "execution_count": null,
   "metadata": {
    "collapsed": true
   },
   "outputs": [],
   "source": []
  }
 ],
 "metadata": {
  "kernelspec": {
   "display_name": "R",
   "language": "R",
   "name": "ir"
  },
  "language_info": {
   "codemirror_mode": "r",
   "file_extension": ".r",
   "mimetype": "text/x-r-source",
   "name": "R",
   "pygments_lexer": "r",
   "version": "3.4.2"
  }
 },
 "nbformat": 4,
 "nbformat_minor": 2
}
